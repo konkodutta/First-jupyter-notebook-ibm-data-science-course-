{
 "cells": [
  {
   "cell_type": "markdown",
   "id": "b550c54e-5008-48c9-bdce-5fed7f9fb32a",
   "metadata": {
    "panel-layout": {
     "height": 60.59375,
     "visible": true,
     "width": 100
    }
   },
   "source": [
    "# Data Science Tools and Ecosystem"
   ]
  },
  {
   "cell_type": "markdown",
   "id": "ce15389d-5f75-46a4-a167-e78c0874a5e1",
   "metadata": {
    "panel-layout": {
     "height": 51.13541793823242,
     "visible": true,
     "width": 100
    }
   },
   "source": [
    "In this notebook, Data Science Tools and Ecosystem are summarized."
   ]
  },
  {
   "cell_type": "markdown",
   "id": "6eea01b0-18c0-459c-9f50-c136a673b658",
   "metadata": {
    "panel-layout": {
     "height": 114.54167175292969,
     "visible": true,
     "width": 100
    }
   },
   "source": [
    "**Objectives**\n",
    "+ Some of the popular languages that Data Scientists\n",
    "+ Some of the popular languages that Data Scientists\n",
    "+ few examples of evaluating arithmetic expressions in Python"
   ]
  },
  {
   "cell_type": "markdown",
   "id": "b6a8d8bb-0d70-4a65-bacb-5f79948347eb",
   "metadata": {
    "panel-layout": {
     "height": 51.13541793823242,
     "visible": true,
     "width": 100
    }
   },
   "source": [
    "Some of the popular languages that Data Scientists use are:"
   ]
  },
  {
   "cell_type": "markdown",
   "id": "3ed49a99-3f01-4526-9530-5fb53d7206a2",
   "metadata": {
    "panel-layout": {
     "height": 85.40625,
     "visible": true,
     "width": 100
    }
   },
   "source": [
    "1. python\n",
    "2. R\n",
    "3. Julia"
   ]
  },
  {
   "cell_type": "markdown",
   "id": "3e20196b-b205-49eb-8572-0365865000c2",
   "metadata": {
    "panel-layout": {
     "height": 51.13541793823242,
     "visible": true,
     "width": 100
    }
   },
   "source": [
    "Some of the commonly used libraries used by Data Scientists include:"
   ]
  },
  {
   "cell_type": "markdown",
   "id": "bfd6d3f2-cedf-483d-a7f8-67370317527c",
   "metadata": {
    "panel-layout": {
     "height": 85.40625,
     "visible": true,
     "width": 100
    }
   },
   "source": [
    "1. Numpy\n",
    "2. Pandas\n",
    "3. Matplotlib"
   ]
  },
  {
   "cell_type": "markdown",
   "id": "58cd1c86-97f7-4de1-bd46-8526a2d88415",
   "metadata": {
    "panel-layout": {
     "height": 121.875,
     "visible": true,
     "width": 100
    }
   },
   "source": [
    "|Data Science Tools |\n",
    "|-------------------|\n",
    "|IBM SPSS           |\n",
    "|jupyter notebook   |\n",
    "|apache spark       |"
   ]
  },
  {
   "cell_type": "markdown",
   "id": "b9b02df2-d8ad-45cc-9063-4869cc6241cb",
   "metadata": {
    "panel-layout": {
     "height": 44.07291793823242,
     "visible": true,
     "width": 100
    }
   },
   "source": [
    "### Below are a few examples of evaluating arithmetic expressions in Python"
   ]
  },
  {
   "cell_type": "code",
   "execution_count": 25,
   "id": "2c111e0d-fd1f-4f19-b9d0-ae4bcd0b3c9d",
   "metadata": {},
   "outputs": [
    {
     "data": {
      "text/plain": [
       "17"
      ]
     },
     "execution_count": 25,
     "metadata": {},
     "output_type": "execute_result"
    }
   ],
   "source": [
    "(3*4)+5\n",
    "#this a simple arithmetic expression to mutiply then add integers"
   ]
  },
  {
   "cell_type": "code",
   "execution_count": 26,
   "id": "ab8f7084-9bc3-4f24-aee7-640c6ff82746",
   "metadata": {},
   "outputs": [
    {
     "data": {
      "text/plain": [
       "3.3333333333333335"
      ]
     },
     "execution_count": 26,
     "metadata": {},
     "output_type": "execute_result"
    }
   ],
   "source": [
    "(200/60)\n",
    "#This will convert 200 minutes to hours by diving by 60"
   ]
  },
  {
   "cell_type": "markdown",
   "id": "fc4eb0c5-1f24-4c4b-ba79-5bf19d4369f9",
   "metadata": {
    "panel-layout": {
     "height": 84.39583587646484,
     "visible": true,
     "width": 100
    }
   },
   "source": [
    "## Author:\n",
    "   Kanka dutta"
   ]
  }
 ],
 "metadata": {
  "kernelspec": {
   "display_name": "Python 3 (ipykernel)",
   "language": "python",
   "name": "python3"
  },
  "language_info": {
   "codemirror_mode": {
    "name": "ipython",
    "version": 3
   },
   "file_extension": ".py",
   "mimetype": "text/x-python",
   "name": "python",
   "nbconvert_exporter": "python",
   "pygments_lexer": "ipython3",
   "version": "3.12.7"
  },
  "panel-cell-order": [
   "b550c54e-5008-48c9-bdce-5fed7f9fb32a",
   "ce15389d-5f75-46a4-a167-e78c0874a5e1",
   "6eea01b0-18c0-459c-9f50-c136a673b658",
   "b6a8d8bb-0d70-4a65-bacb-5f79948347eb",
   "3ed49a99-3f01-4526-9530-5fb53d7206a2",
   "3e20196b-b205-49eb-8572-0365865000c2",
   "bfd6d3f2-cedf-483d-a7f8-67370317527c",
   "58cd1c86-97f7-4de1-bd46-8526a2d88415",
   "b9b02df2-d8ad-45cc-9063-4869cc6241cb",
   "fc4eb0c5-1f24-4c4b-ba79-5bf19d4369f9"
  ]
 },
 "nbformat": 4,
 "nbformat_minor": 5
}
